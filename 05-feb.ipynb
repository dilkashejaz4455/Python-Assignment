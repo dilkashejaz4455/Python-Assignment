{
 "cells": [
  {
   "cell_type": "markdown",
   "id": "9f650d8f",
   "metadata": {},
   "source": [
    "\n",
    "\n",
    "1. **Class:**\n",
    "   - A class is a blueprint or a template for creating objects. It defines a set of attributes (also called properties or fields) and methods (functions) that objects of that class will have.\n",
    "   - It serves as a prototype for creating objects with common characteristics and behaviors.\n",
    "   - Classes are used to model and represent real-world entities or abstract concepts in a program.\n",
    "\n",
    "**Example**:\n",
    "Suppose we want to create a class to represent a `Person`:\n",
    "class Person:\n",
    "    def __init__(self, name, age):\n",
    "        self.name = name\n",
    "        self.age = age\n",
    "\n",
    "    def introduce(self):\n",
    "        print(f\"My name is {self.name} and I am {self.age} years old.\")\n",
    "```\n",
    "\n",
    "In this example, the `Person` class is defined with attributes `name` and `age`, and a method `introduce` to display information about a person. This class acts as a blueprint for creating individual `Person` objects.\n",
    "\n",
    "2. **Object:**\n",
    "   - An object is an instance of a class. It is a concrete realization of the class blueprint, with its own unique data (attribute values) and can perform actions defined by the class methods.\n",
    "   - Objects represent specific instances of the class, each with its own state and behavior.\n",
    "\n",
    "**Example**:\n",
    "Let's create two `Person` objects based on the `Person` class:\n",
    "\n",
    "```python\n",
    "# Creating two Person objects\n",
    "person1 = Person(\"Alice\", 30)\n",
    "person2 = Person(\"Bob\", 25)\n",
    "\n",
    "# Accessing object attributes\n",
    "print(f\"{person1.name} is {person1.age} years old.\")\n",
    "print(f\"{person2.name} is {person2.age} years old.\")\n",
    "\n",
    "# Calling object methods\n",
    "person1.introduce()\n",
    "person2.introduce()\n",
    "```\n",
    "\n",
    "In this code, `person1` and `person2` are two distinct objects created from the `Person` class. Each object has its own `name` and `age` attributes, and when we call the `introduce` method on each object, they provide individualized introductions.\n",
    "\n",
    "In summary, a class defines the structure and behavior of objects, acting as a blueprint, while objects are instances of the class that possess their own unique data and can execute the methods defined by the class."
   ]
  },
  {
   "cell_type": "markdown",
   "id": "4916cc82",
   "metadata": {},
   "source": [
    "Q2.\n",
    "Four major pillar of Oops are :\n",
    "1. Polymorphism\n",
    "2. Inheritance\n",
    "3. Abstraction\n",
    "4. Encapsulation"
   ]
  },
  {
   "cell_type": "code",
   "execution_count": null,
   "id": "55c30b17",
   "metadata": {},
   "outputs": [],
   "source": []
  }
 ],
 "metadata": {
  "kernelspec": {
   "display_name": "Python 3 (ipykernel)",
   "language": "python",
   "name": "python3"
  },
  "language_info": {
   "codemirror_mode": {
    "name": "ipython",
    "version": 3
   },
   "file_extension": ".py",
   "mimetype": "text/x-python",
   "name": "python",
   "nbconvert_exporter": "python",
   "pygments_lexer": "ipython3",
   "version": "3.11.4"
  }
 },
 "nbformat": 4,
 "nbformat_minor": 5
}
