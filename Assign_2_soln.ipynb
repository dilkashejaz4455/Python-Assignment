{
 "cells": [
  {
   "cell_type": "markdown",
   "id": "62893a66",
   "metadata": {},
   "source": [
    " variables are used to store data. To declare and assign values to variables:\n",
    "\n",
    "Choose a name for your variable.\n",
    "Use the = operator to assign a value to the variable.\n",
    "Python infers the data type from the assigned value.\n",
    "You can change the value of a variable by reassigning it.\n",
    "\n",
    "\n",
    "\n"
   ]
  },
  {
   "cell_type": "markdown",
   "id": "fd5551ff",
   "metadata": {},
   "source": [
    "Implicit Type Conversion: Python automatically converts data types when necessary for operations (e.g., int to float).\n",
    "Explicit Type Conversion (Type Casting): Use functions like int(), float(), str(), etc., to manually convert data types.\n",
    "Constructor Functions: Some data types have constructors that create a new instance with the desired type (e.g., list(), tuple()).\n",
    "Custom Type Conversion: You can define custom conversion methods for your classes when needed."
   ]
  },
  {
   "cell_type": "markdown",
   "id": "e9f51774",
   "metadata": {},
   "source": [
    "Create a .py file with your Python code.\n",
    "Open the command line.\n",
    "Navigate to the script's directory (optional).\n",
    "Run the script using python 'script_name.py'\n"
   ]
  },
  {
   "cell_type": "code",
   "execution_count": 1,
   "id": "840656c4",
   "metadata": {},
   "outputs": [],
   "source": [
    "my_list = [1,2,3,4,5]"
   ]
  },
  {
   "cell_type": "code",
   "execution_count": 3,
   "id": "af2795b6",
   "metadata": {},
   "outputs": [],
   "source": [
    "sliced_list = my_list[1:3]"
   ]
  },
  {
   "cell_type": "code",
   "execution_count": 4,
   "id": "dd7e50fa",
   "metadata": {},
   "outputs": [
    {
     "data": {
      "text/plain": [
       "[2, 3]"
      ]
     },
     "execution_count": 4,
     "metadata": {},
     "output_type": "execute_result"
    }
   ],
   "source": [
    "sliced_list"
   ]
  },
  {
   "cell_type": "markdown",
   "id": "c7768986",
   "metadata": {},
   "source": [
    "Q6\n",
    "complex number in mathematics are the numbers which have both imaginary and real part \n",
    "\n",
    "it is reopresented in python as '2+3j'"
   ]
  },
  {
   "cell_type": "code",
   "execution_count": 5,
   "id": "565eb285",
   "metadata": {},
   "outputs": [],
   "source": [
    "#Q7.\n",
    "\n",
    "age = 25\n",
    "\n"
   ]
  },
  {
   "cell_type": "code",
   "execution_count": 6,
   "id": "2cf69543",
   "metadata": {},
   "outputs": [
    {
     "data": {
      "text/plain": [
       "int"
      ]
     },
     "execution_count": 6,
     "metadata": {},
     "output_type": "execute_result"
    }
   ],
   "source": [
    "type(age)"
   ]
  },
  {
   "cell_type": "code",
   "execution_count": 7,
   "id": "03188643",
   "metadata": {},
   "outputs": [
    {
     "data": {
      "text/plain": [
       "float"
      ]
     },
     "execution_count": 7,
     "metadata": {},
     "output_type": "execute_result"
    }
   ],
   "source": [
    "price = 9.99\n",
    "type(price)"
   ]
  },
  {
   "cell_type": "code",
   "execution_count": 8,
   "id": "2cb42703",
   "metadata": {},
   "outputs": [
    {
     "name": "stdout",
     "output_type": "stream",
     "text": [
      "Good Name\n"
     ]
    }
   ],
   "source": [
    "name = \"Good Name\"\n",
    "print(name)"
   ]
  },
  {
   "cell_type": "code",
   "execution_count": 10,
   "id": "c01d5a7f",
   "metadata": {},
   "outputs": [
    {
     "data": {
      "text/plain": [
       "'World'"
      ]
     },
     "execution_count": 10,
     "metadata": {},
     "output_type": "execute_result"
    }
   ],
   "source": [
    "given = \"Hello, World\"\n",
    "given[7:]"
   ]
  },
  {
   "cell_type": "code",
   "execution_count": 11,
   "id": "19c836c7",
   "metadata": {},
   "outputs": [],
   "source": [
    "is_student = True"
   ]
  },
  {
   "cell_type": "code",
   "execution_count": null,
   "id": "61f03156",
   "metadata": {},
   "outputs": [],
   "source": []
  }
 ],
 "metadata": {
  "kernelspec": {
   "display_name": "Python 3 (ipykernel)",
   "language": "python",
   "name": "python3"
  },
  "language_info": {
   "codemirror_mode": {
    "name": "ipython",
    "version": 3
   },
   "file_extension": ".py",
   "mimetype": "text/x-python",
   "name": "python",
   "nbconvert_exporter": "python",
   "pygments_lexer": "ipython3",
   "version": "3.11.4"
  }
 },
 "nbformat": 4,
 "nbformat_minor": 5
}
