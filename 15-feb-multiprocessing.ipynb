{
 "cells": [
  {
   "cell_type": "markdown",
   "id": "7f6e947f",
   "metadata": {},
   "source": [
    "Q1\n",
    "Multiprocessing in Python involves running multiple processes, each with its own interpreter and memory space. It's useful for achieving true parallelism, improving performance, avoiding the Global Interpreter Lock (GIL), isolating processes, enhancing fault tolerance, and utilizing CPU resources in multi-core systems. The built-in multiprocessing module helps create, manage, and synchronize processes for these purposes."
   ]
  },
  {
   "cell_type": "markdown",
   "id": "814cbc9f",
   "metadata": {},
   "source": [
    "Q2\n",
    "Differences between multiprocessing and multithreading:\n",
    "\n",
    "Multiprocessing:\n",
    "1. Multiple processes with separate memory spaces.\n",
    "2. Suitable for CPU-bound tasks and parallelism.\n",
    "3. Avoids Global Interpreter Lock (GIL).\n",
    "4. Enhanced fault tolerance due to process isolation.\n",
    "5. Better resource utilization in multi-core systems.\n",
    "6. Requires inter-process communication mechanisms.\n",
    "7. More memory overhead.\n",
    "\n",
    "Multithreading:\n",
    "1. Multiple threads within the same process with shared memory space.\n",
    "2. Suitable for I/O-bound tasks and concurrency.\n",
    "3. Limited by the Global Interpreter Lock (GIL) in CPython.\n",
    "4. Less isolation between threads.\n",
    "5. May not utilize CPU cores efficiently for CPU-bound tasks.\n",
    "6. Requires synchronization mechanisms.\n",
    "7. Less memory overhead compared to multiprocessing."
   ]
  },
  {
   "cell_type": "code",
   "execution_count": 2,
   "id": "40b7ce48",
   "metadata": {},
   "outputs": [
    {
     "name": "stdout",
     "output_type": "stream",
     "text": [
      "Main process is done\n"
     ]
    }
   ],
   "source": [
    "##Q3\n",
    "import multiprocessing\n",
    "\n",
    "# Function that will be run in the new process\n",
    "def worker_function():\n",
    "    print(\"Worker process is running\")\n",
    "\n",
    "if __name__ == \"__main__\":\n",
    "    # Create a new process\n",
    "    worker_process = multiprocessing.Process(target=worker_function)\n",
    "\n",
    "    # Start the process\n",
    "    worker_process.start()\n",
    "\n",
    "    # Wait for the process to finish (optional)\n",
    "    worker_process.join()\n",
    "\n",
    "    print(\"Main process is done\")\n"
   ]
  },
  {
   "cell_type": "code",
   "execution_count": null,
   "id": "83bcc0c1",
   "metadata": {},
   "outputs": [],
   "source": [
    "#Q4\n",
    "import multiprocessing\n",
    "\n",
    "# Function to perform a task\n",
    "def task(number):\n",
    "    return number * 2\n",
    "\n",
    "if __name__ == \"__main__\":\n",
    "    # Create a multiprocessing pool with 4 worker processes\n",
    "    pool = multiprocessing.Pool(processes=4)\n",
    "\n",
    "    # Define a list of tasks to be executed in parallel\n",
    "    tasks = [1, 2, 3, 4, 5]\n",
    "\n",
    "    # Use the pool's map function to distribute the tasks and collect results\n",
    "    results = pool.map(task, tasks)\n",
    "\n",
    "    # Close the pool and wait for all worker processes to finish\n",
    "    pool.close()\n",
    "    pool.join()\n",
    "\n",
    "    print(\"Results:\", results)\n"
   ]
  },
  {
   "cell_type": "code",
   "execution_count": null,
   "id": "e527349b",
   "metadata": {},
   "outputs": [],
   "source": [
    "#Q5\n",
    "import multiprocessing\n",
    "\n",
    "# Function to perform a task\n",
    "def task(number):\n",
    "    return number * 2\n",
    "\n",
    "if __name__ == \"__main__\":\n",
    "    # Create a multiprocessing pool with 4 worker processes\n",
    "    with multiprocessing.Pool(processes=4) as pool:\n",
    "        # Define a list of tasks to be executed in parallel\n",
    "        tasks = [1, 2, 3, 4, 5]\n",
    "\n",
    "        # Use the pool's map function to distribute the tasks and collect results\n",
    "        results = pool.map(task, tasks)\n",
    "\n",
    "    # Results are automatically collected when the pool is exited\n",
    "\n",
    "    print(\"Results:\", results)\n"
   ]
  },
  {
   "cell_type": "code",
   "execution_count": null,
   "id": "832bc6c8",
   "metadata": {},
   "outputs": [],
   "source": [
    "#Q6\n",
    "import multiprocessing\n",
    "\n",
    "# Function to print a number\n",
    "def print_number(number):\n",
    "    print(f\"Process {number}: {number}\")\n",
    "\n",
    "if __name__ == \"__main__\":\n",
    "    # Create a list of numbers\n",
    "    numbers = [1, 2, 3, 4]\n",
    "\n",
    "    # Create a multiprocessing pool with 4 processes\n",
    "    with multiprocessing.Pool(processes=4) as pool:\n",
    "        # Use the pool's map function to distribute the numbers to processes\n",
    "        pool.map(print_number, numbers)\n",
    "\n"
   ]
  },
  {
   "cell_type": "code",
   "execution_count": null,
   "id": "8670d019",
   "metadata": {},
   "outputs": [],
   "source": []
  }
 ],
 "metadata": {
  "kernelspec": {
   "display_name": "Python 3 (ipykernel)",
   "language": "python",
   "name": "python3"
  },
  "language_info": {
   "codemirror_mode": {
    "name": "ipython",
    "version": 3
   },
   "file_extension": ".py",
   "mimetype": "text/x-python",
   "name": "python",
   "nbconvert_exporter": "python",
   "pygments_lexer": "ipython3",
   "version": "3.11.4"
  }
 },
 "nbformat": 4,
 "nbformat_minor": 5
}
