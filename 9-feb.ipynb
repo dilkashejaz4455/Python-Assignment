{
 "cells": [
  {
   "cell_type": "code",
   "execution_count": 20,
   "id": "e6b725ab",
   "metadata": {},
   "outputs": [],
   "source": [
    "##Q1.\n",
    "class Vehicle :\n",
    "   \n",
    "    def __init__(self,name_of_vehicle,max_speed,average_of_vehicle):\n",
    "        \n",
    "        self.name_of_vehicle = name_of_vehicle\n",
    "        self.max_speed = max_speed\n",
    "        self.average_of_vehicle = average_of_vehicle\n",
    "    "
   ]
  },
  {
   "cell_type": "code",
   "execution_count": 25,
   "id": "45950de1",
   "metadata": {},
   "outputs": [],
   "source": [
    "##Q2\n",
    "class Car(Vehicle):\n",
    "    def __init__(self, name_of_vehicle, max_speed, average_of_vehicle, seating_capacity):\n",
    "        super().__init__(name_of_vehicle, max_speed, average_of_vehicle)\n",
    "        self.seating_capacity = seating_capacity\n",
    "        \n",
    "        def get_info(self):\n",
    "            return f\"Name: {self.name_of_vehicle}, Max Speed: {self.max_speed}, Average: {self.average_of_vehicle}, Capacity: {self.seating_capacity}\"\n",
    "   "
   ]
  },
  {
   "cell_type": "code",
   "execution_count": 29,
   "id": "89456569",
   "metadata": {},
   "outputs": [
    {
     "ename": "AttributeError",
     "evalue": "'Car' object has no attribute 'get_info'",
     "output_type": "error",
     "traceback": [
      "\u001b[1;31m---------------------------------------------------------------------------\u001b[0m",
      "\u001b[1;31mAttributeError\u001b[0m                            Traceback (most recent call last)",
      "Cell \u001b[1;32mIn[29], line 2\u001b[0m\n\u001b[0;32m      1\u001b[0m c1 \u001b[38;5;241m=\u001b[39m  Car(\u001b[38;5;124m\"\u001b[39m\u001b[38;5;124mnaam\u001b[39m\u001b[38;5;124m\"\u001b[39m, \u001b[38;5;241m243\u001b[39m, \u001b[38;5;241m56\u001b[39m, \u001b[38;5;241m5\u001b[39m)\n\u001b[1;32m----> 2\u001b[0m \u001b[38;5;28mprint\u001b[39m(c1\u001b[38;5;241m.\u001b[39mget_info())\n",
      "\u001b[1;31mAttributeError\u001b[0m: 'Car' object has no attribute 'get_info'"
     ]
    }
   ],
   "source": [
    "c1 =  Car(\"naam\", 243, 56, 5)\n",
    "print(c1.get_info())\n"
   ]
  },
  {
   "cell_type": "code",
   "execution_count": 30,
   "id": "4f6f2895",
   "metadata": {},
   "outputs": [
    {
     "name": "stdout",
     "output_type": "stream",
     "text": [
      "Name: Batty\n",
      "Speaking: Mammal speaks.\n"
     ]
    }
   ],
   "source": [
    "##Q3\n",
    "class Animal:\n",
    "    def __init__(self, name):\n",
    "        self.name = name\n",
    "\n",
    "    def speak(self):\n",
    "        pass\n",
    "\n",
    "class Mammal(Animal):\n",
    "    def speak(self):\n",
    "        return \"Mammal speaks.\"\n",
    "\n",
    "class Bird(Animal):\n",
    "    def speak(self):\n",
    "        return \"Bird chirps.\"\n",
    "\n",
    "class Bat(Mammal, Bird):\n",
    "    def __init__(self, name):\n",
    "        super().__init__(name)\n",
    "\n",
    "# Create an instance of the Bat class\n",
    "bat = Bat(\"Batty\")\n",
    "\n",
    "# Demonstrate multiple inheritance\n",
    "print(f\"Name: {bat.name}\")\n",
    "print(f\"Speaking: {bat.speak()}\")\n"
   ]
  },
  {
   "cell_type": "code",
   "execution_count": 31,
   "id": "cc51b02d",
   "metadata": {},
   "outputs": [
    {
     "name": "stdout",
     "output_type": "stream",
     "text": [
      "Initial Name: Alice\n",
      "Updated Name: Bob\n",
      "Initial Age: 25\n",
      "Updated Age: 30\n",
      "Name must be a string.\n",
      "Age must be a non-negative number.\n"
     ]
    }
   ],
   "source": [
    "##Q4\n",
    "class Student:\n",
    "    def __init__(self, name, age):\n",
    "        self._name = name  # Private attribute with a single underscore prefix\n",
    "        self._age = age    # Private attribute with a single underscore prefix\n",
    "\n",
    "    # Getter method for the 'name' attribute\n",
    "    def get_name(self):\n",
    "        return self._name\n",
    "\n",
    "    # Setter method for the 'name' attribute\n",
    "    def set_name(self, name):\n",
    "        if isinstance(name, str):\n",
    "            self._name = name\n",
    "        else:\n",
    "            print(\"Name must be a string.\")\n",
    "\n",
    "    # Getter method for the 'age' attribute\n",
    "    def get_age(self):\n",
    "        return self._age\n",
    "\n",
    "    # Setter method for the 'age' attribute\n",
    "    def set_age(self, age):\n",
    "        if age >= 0:\n",
    "            self._age = age\n",
    "        else:\n",
    "            print(\"Age must be a non-negative number.\")\n",
    "\n",
    "# Create an instance of the Student class\n",
    "student = Student(\"Alice\", 25)\n",
    "\n",
    "# Using getter and setter methods\n",
    "print(f\"Initial Name: {student.get_name()}\")\n",
    "student.set_name(\"Bob\")\n",
    "print(f\"Updated Name: {student.get_name()}\")\n",
    "\n",
    "print(f\"Initial Age: {student.get_age()}\")\n",
    "student.set_age(30)\n",
    "print(f\"Updated Age: {student.get_age()}\")\n",
    "\n",
    "# Invalid data\n",
    "student.set_name(42)  # Will print the error message\n",
    "student.set_age(-5)   # Will print the error message\n"
   ]
  },
  {
   "cell_type": "code",
   "execution_count": 32,
   "id": "21f84285",
   "metadata": {},
   "outputs": [
    {
     "name": "stdout",
     "output_type": "stream",
     "text": [
      "Dog barks\n",
      "Cat meows\n"
     ]
    }
   ],
   "source": [
    "##Q5\n",
    "class Animal:\n",
    "    def speak(self):\n",
    "        print(\"Animal speaks\")\n",
    "\n",
    "class Dog(Animal):\n",
    "    def speak(self):\n",
    "        print(\"Dog barks\")\n",
    "\n",
    "class Cat(Animal):\n",
    "    def speak(self):\n",
    "        print(\"Cat meows\")\n",
    "\n",
    "# Create instances of the subclasses\n",
    "dog = Dog()\n",
    "cat = Cat()\n",
    "\n",
    "# Call the overridden speak method for each instance\n",
    "dog.speak()  # Output: Dog barks\n",
    "cat.speak()  # Output: Cat meows\n"
   ]
  },
  {
   "cell_type": "code",
   "execution_count": null,
   "id": "ffd8f0e6",
   "metadata": {},
   "outputs": [],
   "source": []
  }
 ],
 "metadata": {
  "kernelspec": {
   "display_name": "Python 3 (ipykernel)",
   "language": "python",
   "name": "python3"
  },
  "language_info": {
   "codemirror_mode": {
    "name": "ipython",
    "version": 3
   },
   "file_extension": ".py",
   "mimetype": "text/x-python",
   "name": "python",
   "nbconvert_exporter": "python",
   "pygments_lexer": "ipython3",
   "version": "3.11.4"
  }
 },
 "nbformat": 4,
 "nbformat_minor": 5
}
