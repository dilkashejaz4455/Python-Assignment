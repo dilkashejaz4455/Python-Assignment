{
 "cells": [
  {
   "cell_type": "code",
   "execution_count": 4,
   "id": "9fae0005",
   "metadata": {},
   "outputs": [
    {
     "name": "stdout",
     "output_type": "stream",
     "text": [
      "[1, 3, 5, 7, 9, 11, 13, 15, 17, 19, 21, 23]\n"
     ]
    }
   ],
   "source": [
    "##Q1.\n",
    "## def keyword is used to define a function in python\n",
    "list1 = [i for i in range(25) if i % 2 != 0]\n",
    "print(list1)"
   ]
  },
  {
   "cell_type": "markdown",
   "id": "ac07733b",
   "metadata": {},
   "source": [
    "##Q2\n",
    "*args allows you to pass a variable number of non-keyword (positional) arguments to a function and collects them into a tuple.\n",
    "\n",
    "**kwargs allows you to pass a variable number of keyword (named) arguments to a function and collects them into a dictionary.\n",
    "\n"
   ]
  },
  {
   "cell_type": "markdown",
   "id": "8a19429d",
   "metadata": {},
   "source": [
    "##Q3.\n",
    "In Python, an iterator is an object that represents a stream of data. It is an object that implements two methods: __iter__() and __next__(). The __iter__() method initializes the iterator object, and the __next__() method is used to retrieve the next element in the sequence."
   ]
  },
  {
   "cell_type": "code",
   "execution_count": 5,
   "id": "bdaa10de",
   "metadata": {},
   "outputs": [
    {
     "name": "stdout",
     "output_type": "stream",
     "text": [
      "2\n",
      "4\n",
      "6\n",
      "8\n",
      "10\n"
     ]
    }
   ],
   "source": [
    "# Create an iterator for the list\n",
    "my_list = [2, 4, 6, 8, 10, 12, 14, 16, 18, 20]\n",
    "my_iterator = iter(my_list)\n",
    "\n",
    "# Use the iterator to print the first five elements\n",
    "for _ in range(5):\n",
    "    element = next(my_iterator)\n",
    "    print(element)\n"
   ]
  },
  {
   "cell_type": "code",
   "execution_count": 6,
   "id": "7a27fe16",
   "metadata": {},
   "outputs": [
    {
     "name": "stdout",
     "output_type": "stream",
     "text": [
      "0\n",
      "1\n",
      "4\n",
      "9\n",
      "16\n"
     ]
    }
   ],
   "source": [
    "##Q4 .\n",
    "def square_numbers(n):\n",
    "    for i in range(n):\n",
    "        yield i ** 2\n",
    "\n",
    "# Using the generator to generate squares\n",
    "my_generator = square_numbers(5)\n",
    "for num in my_generator:\n",
    "    print(num)\n"
   ]
  },
  {
   "cell_type": "code",
   "execution_count": 11,
   "id": "6403fa9d",
   "metadata": {},
   "outputs": [
    {
     "name": "stdout",
     "output_type": "stream",
     "text": [
      "2\n",
      "3\n",
      "5\n",
      "7\n",
      "11\n",
      "13\n",
      "17\n",
      "19\n",
      "23\n",
      "29\n",
      "31\n",
      "37\n",
      "41\n",
      "43\n",
      "47\n",
      "53\n",
      "59\n",
      "61\n",
      "67\n",
      "71\n"
     ]
    },
    {
     "ename": "StopIteration",
     "evalue": "",
     "output_type": "error",
     "traceback": [
      "\u001b[1;31m---------------------------------------------------------------------------\u001b[0m",
      "\u001b[1;31mStopIteration\u001b[0m                             Traceback (most recent call last)",
      "Cell \u001b[1;32mIn[11], line 29\u001b[0m\n\u001b[0;32m     27\u001b[0m prime_generator \u001b[38;5;241m=\u001b[39m generate_primes(\u001b[38;5;241m20\u001b[39m)\n\u001b[0;32m     28\u001b[0m \u001b[38;5;28;01mfor\u001b[39;00m _ \u001b[38;5;129;01min\u001b[39;00m \u001b[38;5;28mrange\u001b[39m(\u001b[38;5;241m1000\u001b[39m):\n\u001b[1;32m---> 29\u001b[0m     prime \u001b[38;5;241m=\u001b[39m \u001b[38;5;28mnext\u001b[39m(prime_generator)\n\u001b[0;32m     30\u001b[0m     \u001b[38;5;28mprint\u001b[39m(prime)\n",
      "\u001b[1;31mStopIteration\u001b[0m: "
     ]
    }
   ],
   "source": [
    "def is_prime(number):\n",
    "    if number <= 1:\n",
    "        return False\n",
    "    if number <= 3:\n",
    "        return True\n",
    "    if number % 2 == 0 or number % 3 == 0:\n",
    "        return False\n",
    "\n",
    "    i = 5\n",
    "    while i * i <= number:\n",
    "        if number % i == 0 or number % (i + 2) == 0:\n",
    "            return False\n",
    "        i += 6\n",
    "\n",
    "    return True\n",
    "\n",
    "def generate_primes(limit):\n",
    "    count = 0\n",
    "    number = 2\n",
    "    while count < limit:\n",
    "        if is_prime(number):\n",
    "            yield number\n",
    "            count += 1\n",
    "        number += 1\n",
    "\n",
    "# Using the generator to print the first 20 prime numbers\n",
    "prime_generator = generate_primes(20)\n",
    "for _ in range(1000):\n",
    "    prime = next(prime_generator)\n",
    "    print(prime)\n"
   ]
  },
  {
   "cell_type": "code",
   "execution_count": null,
   "id": "58f420e1",
   "metadata": {},
   "outputs": [],
   "source": []
  }
 ],
 "metadata": {
  "kernelspec": {
   "display_name": "Python 3 (ipykernel)",
   "language": "python",
   "name": "python3"
  },
  "language_info": {
   "codemirror_mode": {
    "name": "ipython",
    "version": 3
   },
   "file_extension": ".py",
   "mimetype": "text/x-python",
   "name": "python",
   "nbconvert_exporter": "python",
   "pygments_lexer": "ipython3",
   "version": "3.11.4"
  }
 },
 "nbformat": 4,
 "nbformat_minor": 5
}
