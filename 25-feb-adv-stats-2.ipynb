{
 "cells": [
  {
   "cell_type": "code",
   "execution_count": 2,
   "id": "c9e52c40",
   "metadata": {},
   "outputs": [],
   "source": [
    "import pandas as pd\n",
    "course_name = ['Data Science', 'Machine Learning', 'Big Data', 'Data Engineer']\n",
    "duration = [2,3,6,4]\n",
    "df = pd.DataFrame(data = {'course_name' : course_name, 'duration' : duration})"
   ]
  },
  {
   "cell_type": "code",
   "execution_count": 3,
   "id": "943a9d15",
   "metadata": {},
   "outputs": [
    {
     "data": {
      "text/html": [
       "<div>\n",
       "<style scoped>\n",
       "    .dataframe tbody tr th:only-of-type {\n",
       "        vertical-align: middle;\n",
       "    }\n",
       "\n",
       "    .dataframe tbody tr th {\n",
       "        vertical-align: top;\n",
       "    }\n",
       "\n",
       "    .dataframe thead th {\n",
       "        text-align: right;\n",
       "    }\n",
       "</style>\n",
       "<table border=\"1\" class=\"dataframe\">\n",
       "  <thead>\n",
       "    <tr style=\"text-align: right;\">\n",
       "      <th></th>\n",
       "      <th>course_name</th>\n",
       "      <th>duration</th>\n",
       "    </tr>\n",
       "  </thead>\n",
       "  <tbody>\n",
       "    <tr>\n",
       "      <th>0</th>\n",
       "      <td>Data Science</td>\n",
       "      <td>2</td>\n",
       "    </tr>\n",
       "    <tr>\n",
       "      <th>1</th>\n",
       "      <td>Machine Learning</td>\n",
       "      <td>3</td>\n",
       "    </tr>\n",
       "    <tr>\n",
       "      <th>2</th>\n",
       "      <td>Big Data</td>\n",
       "      <td>6</td>\n",
       "    </tr>\n",
       "    <tr>\n",
       "      <th>3</th>\n",
       "      <td>Data Engineer</td>\n",
       "      <td>4</td>\n",
       "    </tr>\n",
       "  </tbody>\n",
       "</table>\n",
       "</div>"
      ],
      "text/plain": [
       "        course_name  duration\n",
       "0      Data Science         2\n",
       "1  Machine Learning         3\n",
       "2          Big Data         6\n",
       "3     Data Engineer         4"
      ]
     },
     "execution_count": 3,
     "metadata": {},
     "output_type": "execute_result"
    }
   ],
   "source": [
    "df"
   ]
  },
  {
   "cell_type": "code",
   "execution_count": 8,
   "id": "190d9673",
   "metadata": {},
   "outputs": [
    {
     "data": {
      "text/html": [
       "<div>\n",
       "<style scoped>\n",
       "    .dataframe tbody tr th:only-of-type {\n",
       "        vertical-align: middle;\n",
       "    }\n",
       "\n",
       "    .dataframe tbody tr th {\n",
       "        vertical-align: top;\n",
       "    }\n",
       "\n",
       "    .dataframe thead th {\n",
       "        text-align: right;\n",
       "    }\n",
       "</style>\n",
       "<table border=\"1\" class=\"dataframe\">\n",
       "  <thead>\n",
       "    <tr style=\"text-align: right;\">\n",
       "      <th></th>\n",
       "      <th>course_name</th>\n",
       "      <th>duration</th>\n",
       "    </tr>\n",
       "  </thead>\n",
       "  <tbody>\n",
       "    <tr>\n",
       "      <th>0</th>\n",
       "      <td>Data Science</td>\n",
       "      <td>2</td>\n",
       "    </tr>\n",
       "    <tr>\n",
       "      <th>1</th>\n",
       "      <td>Machine Learning</td>\n",
       "      <td>3</td>\n",
       "    </tr>\n",
       "  </tbody>\n",
       "</table>\n",
       "</div>"
      ],
      "text/plain": [
       "        course_name  duration\n",
       "0      Data Science         2\n",
       "1  Machine Learning         3"
      ]
     },
     "execution_count": 8,
     "metadata": {},
     "output_type": "execute_result"
    }
   ],
   "source": [
    "df.head(2)"
   ]
  },
  {
   "cell_type": "code",
   "execution_count": 11,
   "id": "ba22d23f",
   "metadata": {},
   "outputs": [],
   "source": [
    "sec_row_element = df.iloc[1]"
   ]
  },
  {
   "cell_type": "code",
   "execution_count": 12,
   "id": "207371ae",
   "metadata": {},
   "outputs": [
    {
     "data": {
      "text/plain": [
       "course_name    Machine Learning\n",
       "duration                      3\n",
       "Name: 1, dtype: object"
      ]
     },
     "execution_count": 12,
     "metadata": {},
     "output_type": "execute_result"
    }
   ],
   "source": [
    "sec_row_element"
   ]
  },
  {
   "cell_type": "markdown",
   "id": "635a843c",
   "metadata": {},
   "source": [
    "##Q2\n",
    "In pandas, both `loc` and `iloc` are used for accessing data from a DataFrame, but they have different ways of specifying the location.\n",
    "\n",
    "1. **`loc` (Label-based Indexing):**\n",
    "   - `loc` is primarily label-based indexing. It is used for selecting data by labels of rows and columns.\n",
    "   - It takes labels or boolean array-like objects to specify the location.\n",
    "   - The syntax for `loc` is `df.loc[row_label, column_label]`.\n",
    "\n",
    "   Example:\n",
    "   ```python\n",
    "   # Selecting data from the second row using loc\n",
    "   data = df.loc[1]\n",
    "   ```\n",
    "\n",
    "   It is important to note that when using `loc`, the ending index is inclusive, meaning it includes the last index specified.\n",
    "\n",
    "2. **`iloc` (Integer-based Indexing):**\n",
    "   - `iloc` is integer-location based indexing. It is used for selecting data by integer index positions.\n",
    "   - It takes integer values or boolean array-like objects to specify the location.\n",
    "   - The syntax for `iloc` is `df.iloc[row_index, column_index]`.\n",
    "\n",
    "   Example:\n",
    "   ```python\n",
    "   # Selecting data from the second row using iloc\n",
    "   data = df.iloc[1]\n",
    "   ```\n",
    "\n",
    "   Unlike `loc`, when using `iloc`, the ending index is exclusive, meaning it does not include the last index specified.\n",
    "\n",
    "\n"
   ]
  },
  {
   "cell_type": "code",
   "execution_count": 18,
   "id": "240bb33b",
   "metadata": {},
   "outputs": [
    {
     "name": "stdout",
     "output_type": "stream",
     "text": [
      "Output for new_df.loc[2]:\n",
      "column_1    0.275701\n",
      "column_2    0.334191\n",
      "column_3    0.979612\n",
      "column_4    0.286326\n",
      "column_5    0.545930\n",
      "column_6    0.415971\n",
      "Name: 2, dtype: float64\n",
      "\n",
      "Output for new_df.iloc[2]:\n",
      "column_1    0.096494\n",
      "column_2    0.069858\n",
      "column_3    0.658055\n",
      "column_4    0.421697\n",
      "column_5    0.266204\n",
      "column_6    0.460216\n",
      "Name: 1, dtype: float64\n"
     ]
    }
   ],
   "source": [
    "## Q3\n",
    "import pandas as pd\n",
    "import numpy as np\n",
    "\n",
    "# Creating the DataFrame\n",
    "columns = ['column_1', 'column_2', 'column_3', 'column_4', 'column_5', 'column_6']\n",
    "indices = [1, 2, 3, 4, 5, 6]\n",
    "df1 = pd.DataFrame(np.random.rand(6, 6), columns=columns, index=indices)\n",
    "\n",
    "# Reindexing the DataFrame\n",
    "reindex = [3, 0, 1, 2]\n",
    "new_df = df1.reindex(reindex)\n",
    "\n",
    "# Finding output for new_df.loc[2] and new_df.iloc[2]\n",
    "loc_output = new_df.loc[2]\n",
    "iloc_output = new_df.iloc[2]\n",
    "\n",
    "print(\"Output for new_df.loc[2]:\")\n",
    "print(loc_output)\n",
    "\n",
    "print(\"\\nOutput for new_df.iloc[2]:\")\n",
    "print(iloc_output)\n"
   ]
  },
  {
   "cell_type": "code",
   "execution_count": 19,
   "id": "39f51dc5",
   "metadata": {},
   "outputs": [
    {
     "name": "stdout",
     "output_type": "stream",
     "text": [
      "\n",
      "Mean of each column:\n",
      "column_1    0.440171\n",
      "column_2    0.331990\n",
      "column_3    0.686144\n",
      "column_4    0.379646\n",
      "column_5    0.367484\n",
      "column_6    0.463949\n",
      "dtype: float64\n",
      "\n",
      "Standard deviation of column 'column_2': 0.2766267113021631\n"
     ]
    }
   ],
   "source": [
    "## Q4\n",
    "\n",
    "mean_values = df1.mean()\n",
    "print(\"\\nMean of each column:\")\n",
    "print(mean_values)\n",
    "\n",
    "std_dev_column_2 = df1['column_2'].std()\n",
    "print(\"\\nStandard deviation of column 'column_2':\", std_dev_column_2)\n"
   ]
  },
  {
   "cell_type": "code",
   "execution_count": null,
   "id": "c6823957",
   "metadata": {},
   "outputs": [],
   "source": [
    "# Q5 - Replace the data in the second row of 'column_2'\n",
    "df1.loc[2, 'column_2'] = 'your_string_variable'\n",
    "\n",
    "# Find the mean of 'column_2'\n",
    "mean_column_2_after_replace = df1['column_2'].mean()\n",
    "print(\"\\nMean of column 'column_2' after replacement:\", mean_column_2_after_replace)\n"
   ]
  },
  {
   "cell_type": "raw",
   "id": "f2074012",
   "metadata": {},
   "source": [
    "# Q6\n",
    "The term \"windows function\" in pandas usually refers to functions that operate on a rolling or expanding window of data. These functions are useful for time series analysis.\n",
    "\n",
    "Types of window functions include:\n",
    "\n",
    "Rolling functions (e.g., rolling_mean, rolling_sum): Compute statistics on a fixed-size moving window of data.\n",
    "Expanding functions (e.g., expanding_mean, expanding_sum): Compute statistics on all the data seen so far."
   ]
  },
  {
   "cell_type": "code",
   "execution_count": 21,
   "id": "a99ee1ab",
   "metadata": {},
   "outputs": [
    {
     "name": "stdout",
     "output_type": "stream",
     "text": [
      "Current month and year: November 2023\n"
     ]
    }
   ],
   "source": [
    "## Q7\n",
    "\n",
    "\n",
    "import pandas as pd\n",
    "\n",
    "# Get current month and year\n",
    "current_date = pd.to_datetime('today')\n",
    "current_month_year = current_date.strftime('%B %Y')\n",
    "print(\"Current month and year:\", current_month_year)\n"
   ]
  },
  {
   "cell_type": "code",
   "execution_count": null,
   "id": "a86aead3",
   "metadata": {},
   "outputs": [],
   "source": [
    "## Q8\n",
    "import pandas as pd\n",
    "\n",
    "# Prompt user for two dates\n",
    "date_str1 = input(\"Enter the first date (YYYY-MM-DD): \")\n",
    "date_str2 = input(\"Enter the second date (YYYY-MM-DD): \")\n",
    "\n",
    "# Convert input strings to datetime objects\n",
    "date1 = pd.to_datetime(date_str1)\n",
    "date2 = pd.to_datetime(date_str2)\n",
    "\n",
    "# Calculate the difference\n",
    "time_delta = date2 - date1\n",
    "\n",
    "# Display the result\n",
    "print(\"\\nDifference between the two dates:\")\n",
    "print(\"Days:\", time_delta.days)\n",
    "print(\"Hours:\", time_delta.seconds // 3600)\n",
    "print(\"Minutes:\", (time_delta.seconds // 60) % 60)\n"
   ]
  },
  {
   "cell_type": "code",
   "execution_count": null,
   "id": "cbf5e462",
   "metadata": {},
   "outputs": [],
   "source": [
    "## Q9\n",
    "import pandas as pd\n",
    "\n",
    "# Function to read CSV file, convert column to categorical, and display sorted data\n",
    "def convert_to_categorical(file_path, column_name, category_order):\n",
    "    # Read CSV file\n",
    "    df = pd.read_csv(file_path)\n",
    "\n",
    "    # Convert specified column to categorical with specified order\n",
    "    df[column_name] = pd.Categorical(df[column_name], categories=category_order, ordered=True)\n",
    "\n",
    "    # Display sorted data\n",
    "    sorted_data = df.sort_values(by=[column_name])\n",
    "    print(sorted_data)\n",
    "\n",
    "# Prompt user for file path, column name, and category order\n",
    "file_path = input(\"Enter the file path (CSV): \")\n",
    "column_name = input(\"Enter the column name to convert: \")\n",
    "category_order_str = input(\"Enter the category order (comma-separated): \")\n",
    "category_order = [category.strip() for category in category_order_str.split(',')]\n",
    "\n",
    "# Call the function\n",
    "convert_to_categorical(file_path, column_name, category_order)\n"
   ]
  },
  {
   "cell_type": "code",
   "execution_count": null,
   "id": "08fc941b",
   "metadata": {},
   "outputs": [],
   "source": [
    " # Q10\n",
    "import pandas as pd\n",
    "import matplotlib.pyplot as plt\n",
    "\n",
    "# Function to read CSV file and visualize sales data using a stacked bar chart\n",
    "def visualize_sales_data(file_path):\n",
    "    # Read CSV file\n",
    "    df = pd.read_csv(file_path)\n",
    "\n",
    "    # Assuming the DataFrame has columns: 'Product', 'Date', 'Sales'\n",
    "    # You may need to adjust the column names based on your actual data\n",
    "\n",
    "    # Pivot the data for stacked bar chart\n",
    "    pivot_df = df.pivot(index='Date', columns='Product', values='Sales')\n",
    "\n",
    "    # Plot stacked bar chart\n",
    "    pivot_df.plot(kind='bar', stacked=True, figsize=(10, 6))\n",
    "    plt.title('Sales Data Over Time')\n",
    "    plt.xlabel('Date')\n",
    "    plt.ylabel('Sales')\n",
    "    plt.legend(title='Product', bbox_to_anchor=(1.05, 1), loc='upper left')\n",
    "\n",
    "    # Show the chart\n",
    "    plt.show()\n",
    "\n",
    "# Prompt user for file path\n",
    "file_path = input(\"Enter the file path (CSV): \")\n",
    "\n",
    "# Call the function\n",
    "visualize_sales_data(file_path)\n"
   ]
  },
  {
   "cell_type": "code",
   "execution_count": null,
   "id": "3f7838e1",
   "metadata": {},
   "outputs": [],
   "source": [
    "#Q11\n",
    "import pandas as pd\n",
    "\n",
    "# Function to calculate mean, median, and mode of test scores and display results\n",
    "def calculate_statistics(file_path):\n",
    "    # Read CSV file into a DataFrame\n",
    "    df = pd.read_csv(file_path)\n",
    "\n",
    "    # Calculate mean, median, and mode\n",
    "    mean_score = df['Test Score'].mean()\n",
    "    median_score = df['Test Score'].median()\n",
    "    mode_scores = df['Test Score'].mode()\n",
    "\n",
    "    # Display results in a table\n",
    "    results_table = pd.DataFrame({\n",
    "        'Statistic': ['Mean', 'Median', 'Mode'],\n",
    "        'Value': [mean_score, median_score, ', '.join(map(str, mode_scores))]\n",
    "    })\n",
    "\n",
    "    print(\"\\nResults:\")\n",
    "    print(results_table)\n",
    "\n",
    "# Prompt user for file path\n",
    "file_path = input(\"Enter the file path of the CSV file containing the student data: \")\n",
    "\n",
    "# Call the function\n",
    "calculate_statistics(file_path)\n"
   ]
  },
  {
   "cell_type": "code",
   "execution_count": null,
   "id": "8f3a6cc3",
   "metadata": {},
   "outputs": [],
   "source": []
  }
 ],
 "metadata": {
  "kernelspec": {
   "display_name": "Python 3 (ipykernel)",
   "language": "python",
   "name": "python3"
  },
  "language_info": {
   "codemirror_mode": {
    "name": "ipython",
    "version": 3
   },
   "file_extension": ".py",
   "mimetype": "text/x-python",
   "name": "python",
   "nbconvert_exporter": "python",
   "pygments_lexer": "ipython3",
   "version": "3.11.4"
  }
 },
 "nbformat": 4,
 "nbformat_minor": 5
}
