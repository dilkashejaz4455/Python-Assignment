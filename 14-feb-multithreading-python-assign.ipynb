{
 "cells": [
  {
   "cell_type": "code",
   "execution_count": 1,
   "id": "64657240",
   "metadata": {},
   "outputs": [
    {
     "name": "stdout",
     "output_type": "stream",
     "text": [
      "Square of 1 is 1\n",
      "Square of 2 is 4\n",
      "Square of 3 is 9\n",
      "Square of 4 is 16\n",
      "Square of 5 is 25\n",
      "All threads have finished.\n"
     ]
    }
   ],
   "source": [
    "##Q1\n",
    "import threading\n",
    "\n",
    "# Function to calculate the square of numbers\n",
    "def calculate_square(number):\n",
    "    print(f\"Square of {number} is {number * number}\")\n",
    "\n",
    "# Create a list of numbers\n",
    "numbers = [1, 2, 3, 4, 5]\n",
    "\n",
    "# Create threads for each number and start them concurrently\n",
    "threads = []\n",
    "for num in numbers:\n",
    "    thread = threading.Thread(target=calculate_square, args=(num,))\n",
    "    threads.append(thread)\n",
    "    thread.start()\n",
    "\n",
    "# Wait for all threads to finish\n",
    "for thread in threads:\n",
    "    thread.join()\n",
    "\n",
    "print(\"All threads have finished.\")\n"
   ]
  },
  {
   "cell_type": "markdown",
   "id": "f98f6b73",
   "metadata": {},
   "source": [
    "Q2\n",
    "The threading module in Python is used to work with threads for concurrent execution of tasks. Here's a brief summary of the mentioned functions:\n",
    "\n",
    "activeCount(): Returns the number of currently active threads in the program.\n",
    "\n",
    "currentThread(): Returns the Thread object representing the currently executing thread.\n",
    "\n",
    "enumerate(): Returns a list of all Thread objects currently alive (active threads)."
   ]
  },
  {
   "cell_type": "markdown",
   "id": "e9942d6f",
   "metadata": {},
   "source": [
    "Q3\n",
    "run(): A method that you define in a custom thread class to specify the code to be executed when the thread starts.\n",
    "\n",
    "start(): A method used to initiate the execution of a thread by scheduling it to run concurrently with the main program.\n",
    "\n",
    "join(): A method used to wait for a thread to finish its execution before the main program continues.\n",
    "\n",
    "isAlive(): A method that checks whether a thread is currently executing or has completed and returns True if the thread is still active, False otherwise."
   ]
  },
  {
   "cell_type": "code",
   "execution_count": 2,
   "id": "cafdc38d",
   "metadata": {},
   "outputs": [
    {
     "name": "stdout",
     "output_type": "stream",
     "text": [
      "Square of 1: 1\n",
      "Square of 2: 4\n",
      "Square of 3: 9\n",
      "Square of 4: 16\n",
      "Square of 5: 25\n",
      "Cube of 1: 1\n",
      "Cube of 2: 8\n",
      "Cube of 3: 27\n",
      "Cube of 4: 64\n",
      "Cube of 5: 125\n",
      "Both threads have finished.\n"
     ]
    }
   ],
   "source": [
    "##Q4\n",
    "import threading\n",
    "\n",
    "# Function to calculate and print squares\n",
    "def calculate_squares(numbers):\n",
    "    for num in numbers:\n",
    "        print(f\"Square of {num}: {num * num}\")\n",
    "\n",
    "# Function to calculate and print cubes\n",
    "def calculate_cubes(numbers):\n",
    "    for num in numbers:\n",
    "        print(f\"Cube of {num}: {num * num * num}\")\n",
    "\n",
    "# Create a list of numbers\n",
    "numbers = [1, 2, 3, 4, 5]\n",
    "\n",
    "# Create thread objects for square and cube calculations\n",
    "square_thread = threading.Thread(target=calculate_squares, args=(numbers,))\n",
    "cube_thread = threading.Thread(target=calculate_cubes, args=(numbers,))\n",
    "\n",
    "# Start both threads\n",
    "square_thread.start()\n",
    "cube_thread.start()\n",
    "\n",
    "# Wait for both threads to finish\n",
    "square_thread.join()\n",
    "cube_thread.join()\n",
    "\n",
    "print(\"Both threads have finished.\")\n"
   ]
  },
  {
   "cell_type": "markdown",
   "id": "1402eeb5",
   "metadata": {},
   "source": [
    "##Q5\n",
    "Advantages of Multithreading:\n",
    "\n",
    "Improved Performance:\n",
    "One of the primary advantages of multithreading is the potential for improved performance. Multithreading allows you to execute multiple tasks concurrently, making better use of available CPU cores and resources. This is especially beneficial for tasks that can be parallelized.\n",
    "\n",
    "Responsiveness:\n",
    "Multithreading can enhance the responsiveness of applications, particularly in cases where I/O-bound operations are involved. While one thread is waiting for I/O, other threads can continue executing, keeping the application responsive to user input.\n",
    "\n",
    "Resource Sharing:\n",
    "Threads within the same process share the same memory space. This allows them to share data and resources more easily compared to separate processes, which have their own memory spaces.\n",
    "\n",
    "Simplified Programming:\n",
    "In some cases, multithreading can simplify complex programs by breaking them into smaller, more manageable threads. This can lead to cleaner and more modular code.\n",
    "Disadvantages of Multithreading:\n",
    "\n",
    "Complexity:\n",
    "Multithreading can introduce significant complexity to a program. Coordination and synchronization between threads become crucial to avoid race conditions, deadlocks, and other concurrency-related issues.\n",
    "\n",
    "Race Conditions:\n",
    "Race conditions occur when multiple threads access shared data simultaneously and can lead to unpredictable behavior. Proper synchronization mechanisms (e.g., locks) are required to prevent race conditions.\n",
    "\n",
    "Deadlocks:\n",
    "Deadlocks can occur when two or more threads are waiting for resources that are locked by each other, causing all threads involved to become unresponsive. Debugging and resolving deadlocks can be challenging.\n",
    "\n",
    "Overhead:\n",
    "Multithreading introduces overhead due to thread creation, context switching, and synchronization. This can sometimes offset the performance gains, especially in cases where many threads are constantly switching or competing for resources.\n",
    "\n",
    "Difficulty in Debugging:\n",
    "Debugging multithreaded applications can be challenging. Issues may not always be reproducible, making it harder to identify and fix bugs related to thread interactions.\n",
    "\n",
    "Portability:\n",
    "Multithreading behavior can vary across different platforms and operating systems, making it less portable. Code that works well on one platform may require adjustments to work correctly on another.\n",
    "\n"
   ]
  },
  {
   "cell_type": "markdown",
   "id": "2e2d976e",
   "metadata": {},
   "source": [
    "Q6\n",
    "Certainly, here's a brief explanation of deadlocks and race conditions:\n",
    "\n",
    "Deadlock:\n",
    "- Deadlock is a situation in which two or more threads or processes are unable to proceed because each is waiting for the other(s) to release a resource.\n",
    "- It typically occurs when multiple threads acquire locks or resources in a way that they can't be released until certain conditions are met.\n",
    "- Deadlocks can lead to a system becoming unresponsive, and resolving them often requires careful resource management and synchronization mechanisms.\n",
    "\n",
    "Race Condition:\n",
    "- A race condition occurs when multiple threads or processes access shared data concurrently, and the final outcome depends on the order or timing of their execution.\n",
    "- This can lead to unpredictable or unintended behavior, as the result depends on which thread executes its operation first.\n",
    "- Race conditions can be prevented or mitigated through proper synchronization techniques, such as locks or semaphores, to ensure that shared resources are accessed safely."
   ]
  },
  {
   "cell_type": "code",
   "execution_count": null,
   "id": "66a032af",
   "metadata": {},
   "outputs": [],
   "source": []
  }
 ],
 "metadata": {
  "kernelspec": {
   "display_name": "Python 3 (ipykernel)",
   "language": "python",
   "name": "python3"
  },
  "language_info": {
   "codemirror_mode": {
    "name": "ipython",
    "version": 3
   },
   "file_extension": ".py",
   "mimetype": "text/x-python",
   "name": "python",
   "nbconvert_exporter": "python",
   "pygments_lexer": "ipython3",
   "version": "3.11.4"
  }
 },
 "nbformat": 4,
 "nbformat_minor": 5
}
