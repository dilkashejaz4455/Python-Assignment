{
 "cells": [
  {
   "cell_type": "markdown",
   "id": "93c2268f",
   "metadata": {},
   "source": [
    "Q1.\n",
    "Exceptions in Python are runtime errors that occur during program execution, and they can be caught and handled to prevent program crashes.\n",
    "\n",
    "Syntax errors are coding mistakes related to the structure and syntax of your code. They are detected by the Python interpreter during code parsing and prevent the program from running until corrected."
   ]
  },
  {
   "cell_type": "markdown",
   "id": "184fd92d",
   "metadata": {},
   "source": [
    "Q2\n",
    "When an exception is not handled in Python, it leads to program termination or an uncontrolled error state. In such cases, the program will abruptly stop, and an error message, including information about the unhandled exception, is displayed. This can disrupt the normal flow of the program and may not provide the desired behavior or user experience."
   ]
  },
  {
   "cell_type": "code",
   "execution_count": 2,
   "id": "e01d6b35",
   "metadata": {},
   "outputs": [
    {
     "name": "stdout",
     "output_type": "stream",
     "text": [
      "5.0\n",
      "Error: Division by zero\n",
      "An unexpected error occurred: unsupported operand type(s) for /: 'str' and 'str'\n",
      "An unexpected error occurred: unsupported operand type(s) for /: 'int' and 'str'\n"
     ]
    }
   ],
   "source": [
    "##Q3\n",
    "def divide(a, b):\n",
    "    try:\n",
    "        result = a / b\n",
    "        return result\n",
    "    except ZeroDivisionError:\n",
    "        return \"Error: Division by zero\"\n",
    "    except ValueError:\n",
    "        return \"Error: Invalid value\"\n",
    "    except Exception as e:\n",
    "        return f\"An unexpected error occurred: {e}\"\n",
    "\n",
    "# Example usages\n",
    "print(divide(10, 2))     # Output: 5.0\n",
    "print(divide(10, 0))     # Output: Error: Division by zero\n",
    "print(divide(\"10\", \"2\")) # Output: Error: Invalid value\n",
    "print(divide(10, \"2\"))   # Output: An unexpected error occurred: unsupported operand type(s) for /: 'int' and 'str'\n"
   ]
  },
  {
   "cell_type": "markdown",
   "id": "2a60d759",
   "metadata": {},
   "source": [
    "##Q4\n",
    "try Statement: The try statement is used to enclose a block of code where exceptions might occur. It allows you to specify a block of code that may raise exceptions.\n",
    "\n",
    "except Statement: The except statement is used to define how to handle exceptions when they occur within the corresponding try block. You can have multiple except blocks to handle different types of exceptions or provide generic error handling for all exceptions.\n",
    "\n",
    "finally Statement: The finally statement is used to specify a block of code that will always be executed, whether or not an exception occurs. It's typically used for cleanup operations.\n",
    "\n",
    "raise Statement: The raise statement is used to raise exceptions explicitly. You can use it to create and raise custom exceptions or re-raise exceptions that were caught earlier."
   ]
  },
  {
   "cell_type": "markdown",
   "id": "cef9b97d",
   "metadata": {},
   "source": [
    "##Q5\n",
    "custom exceptions in Python are user-defined exception classes created to represent specific error conditions that are not adequately covered by built-in exceptions. They are needed to provide clear communication of error conditions, handle specific error cases, and centralize error handling logic in your code. Custom exceptions enhance code readability and maintainability by making error handling more precise and meaningful."
   ]
  },
  {
   "cell_type": "code",
   "execution_count": 3,
   "id": "4f4f9cab",
   "metadata": {},
   "outputs": [
    {
     "name": "stdout",
     "output_type": "stream",
     "text": [
      "Custom Error Caught: Division by zero is not allowed\n"
     ]
    }
   ],
   "source": [
    "##Q6\n",
    "# Define a custom exception class\n",
    "class CustomError(Exception):\n",
    "    def __init__(self, message):\n",
    "        super().__init__(message)\n",
    "\n",
    "# Function that raises the custom exception\n",
    "def divide(a, b):\n",
    "    if b == 0:\n",
    "        raise CustomError(\"Division by zero is not allowed\")\n",
    "    return a / b\n",
    "\n",
    "# Example of using the custom exception\n",
    "try:\n",
    "    result = divide(10, 0)\n",
    "    print(f\"Result: {result}\")\n",
    "except CustomError as ce:\n",
    "    print(f\"Custom Error Caught: {ce}\")\n"
   ]
  },
  {
   "cell_type": "code",
   "execution_count": null,
   "id": "0780306e",
   "metadata": {},
   "outputs": [],
   "source": []
  }
 ],
 "metadata": {
  "kernelspec": {
   "display_name": "Python 3 (ipykernel)",
   "language": "python",
   "name": "python3"
  },
  "language_info": {
   "codemirror_mode": {
    "name": "ipython",
    "version": 3
   },
   "file_extension": ".py",
   "mimetype": "text/x-python",
   "name": "python",
   "nbconvert_exporter": "python",
   "pygments_lexer": "ipython3",
   "version": "3.11.4"
  }
 },
 "nbformat": 4,
 "nbformat_minor": 5
}
