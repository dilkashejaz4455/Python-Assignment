{
 "cells": [
  {
   "cell_type": "code",
   "execution_count": 1,
   "id": "77ddd5e6",
   "metadata": {},
   "outputs": [],
   "source": [
    "name = \"Dilkash\""
   ]
  },
  {
   "cell_type": "code",
   "execution_count": 2,
   "id": "9482e142",
   "metadata": {},
   "outputs": [
    {
     "data": {
      "text/plain": [
       "str"
      ]
     },
     "execution_count": 2,
     "metadata": {},
     "output_type": "execute_result"
    }
   ],
   "source": [
    "type(name )"
   ]
  },
  {
   "cell_type": "code",
   "execution_count": 3,
   "id": "f0f218f4",
   "metadata": {},
   "outputs": [],
   "source": [
    "l = [1,2,3,4,\"dilkash\"]"
   ]
  },
  {
   "cell_type": "code",
   "execution_count": 4,
   "id": "0f326eff",
   "metadata": {},
   "outputs": [
    {
     "data": {
      "text/plain": [
       "list"
      ]
     },
     "execution_count": 4,
     "metadata": {},
     "output_type": "execute_result"
    }
   ],
   "source": [
    "type(l)"
   ]
  },
  {
   "cell_type": "code",
   "execution_count": 5,
   "id": "0d1fbe61",
   "metadata": {},
   "outputs": [],
   "source": [
    "f = 463.45678"
   ]
  },
  {
   "cell_type": "code",
   "execution_count": 6,
   "id": "ce256397",
   "metadata": {},
   "outputs": [
    {
     "data": {
      "text/plain": [
       "float"
      ]
     },
     "execution_count": 6,
     "metadata": {},
     "output_type": "execute_result"
    }
   ],
   "source": [
    "type(f)"
   ]
  },
  {
   "cell_type": "code",
   "execution_count": 7,
   "id": "663d581e",
   "metadata": {},
   "outputs": [],
   "source": [
    "t = (1,23,45,'hlo')"
   ]
  },
  {
   "cell_type": "code",
   "execution_count": 8,
   "id": "5bd8c167",
   "metadata": {},
   "outputs": [
    {
     "data": {
      "text/plain": [
       "tuple"
      ]
     },
     "execution_count": 8,
     "metadata": {},
     "output_type": "execute_result"
    }
   ],
   "source": [
    "type(t)"
   ]
  },
  {
   "cell_type": "markdown",
   "id": "1eab062e",
   "metadata": {},
   "source": [
    "#Q2 "
   ]
  },
  {
   "cell_type": "code",
   "execution_count": 10,
   "id": "888fe323",
   "metadata": {},
   "outputs": [],
   "source": [
    "##string\n",
    "##string\n",
    "##list\n",
    "#integer"
   ]
  },
  {
   "cell_type": "code",
   "execution_count": 11,
   "id": "e10614ed",
   "metadata": {},
   "outputs": [],
   "source": [
    "#Q3"
   ]
  },
  {
   "cell_type": "code",
   "execution_count": 12,
   "id": "232f2d3e",
   "metadata": {},
   "outputs": [],
   "source": [
    "# / performs division.\n",
    "# % calculates the remainder.\n",
    "# // performs integer (floor) division.\n",
    "# ** calculates exponentiation (raising to a power)."
   ]
  },
  {
   "cell_type": "code",
   "execution_count": 13,
   "id": "035cca77",
   "metadata": {},
   "outputs": [],
   "source": [
    "#Q4"
   ]
  },
  {
   "cell_type": "code",
   "execution_count": null,
   "id": "95cd4c69",
   "metadata": {},
   "outputs": [],
   "source": [
    "lst = [\"dil\",\"kash\", 2.4 , 4 , 133, True, False ,2 , 'e' , 22]\n",
    "for i in lst:\n",
    "    print(i , type(i))"
   ]
  },
  {
   "cell_type": "code",
   "execution_count": null,
   "id": "f239029f",
   "metadata": {},
   "outputs": [],
   "source": [
    "# Input the numbers A and B\n",
    "A = int(input(\"Enter the number A: \"))\n",
    "B = int(input(\"Enter the number B: \"))\n",
    "\n",
    "# Initialize a count variable to keep track of how many times A can be divided by B\n",
    "count = 0\n",
    "\n",
    "# Use a while loop to repeatedly divide A by B until it's no longer divisible\n",
    "while A % B == 0:\n",
    "    A = A // B  # Integer division\n",
    "    count += 1\n",
    "\n",
    "# Check if A became 1, which means it was purely divisible by B\n",
    "if A == 1:\n",
    "    print(f\"{A} is purely divisible by {B} {count} times.\")\n",
    "else:\n",
    "    print(f\"{A} is not purely divisible by {B}.\")\n"
   ]
  },
  {
   "cell_type": "code",
   "execution_count": null,
   "id": "e041d9aa",
   "metadata": {},
   "outputs": [],
   "source": [
    "# Create a list of 25 integers\n",
    "my_list = [7, 12, 9, 5, 18, 21, 14, 30, 27, 8, 6, 15, 10, 11, 3, 33, 25, 36, 17, 22, 19, 24, 16, 20, 13]\n",
    "\n",
    "# Use a for loop to iterate through the list\n",
    "for num in my_list:\n",
    "    if num % 3 == 0:\n",
    "        print(f\"{num} is divisible by 3.\")\n",
    "    else:\n",
    "        print(f\"{num} is not divisible by 3.\")\n"
   ]
  },
  {
   "cell_type": "markdown",
   "id": "5914f8fe",
   "metadata": {},
   "source": [
    "Mutable Data Types can be modified after creation, and changes directly affect the original object. Examples include lists, dictionaries, and sets.\n",
    "\n",
    "Immutable Data Types cannot be modified once created; any operation on them returns a new object with the modified value. Examples include strings, numbers, and tuples."
   ]
  }
 ],
 "metadata": {
  "kernelspec": {
   "display_name": "Python 3 (ipykernel)",
   "language": "python",
   "name": "python3"
  },
  "language_info": {
   "codemirror_mode": {
    "name": "ipython",
    "version": 3
   },
   "file_extension": ".py",
   "mimetype": "text/x-python",
   "name": "python",
   "nbconvert_exporter": "python",
   "pygments_lexer": "ipython3",
   "version": "3.11.4"
  }
 },
 "nbformat": 4,
 "nbformat_minor": 5
}
