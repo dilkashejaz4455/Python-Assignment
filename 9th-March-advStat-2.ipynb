{
 "cells": [
  {
   "cell_type": "code",
   "execution_count": 1,
   "id": "3f33cd1b",
   "metadata": {},
   "outputs": [
    {
     "ename": "SyntaxError",
     "evalue": "invalid syntax (1361750916.py, line 1)",
     "output_type": "error",
     "traceback": [
      "\u001b[1;36m  Cell \u001b[1;32mIn[1], line 1\u001b[1;36m\u001b[0m\n\u001b[1;33m    Q1: **Probability Mass Function (PMF) and Probability Density Function (PDF):**\u001b[0m\n\u001b[1;37m        ^\u001b[0m\n\u001b[1;31mSyntaxError\u001b[0m\u001b[1;31m:\u001b[0m invalid syntax\n"
     ]
    }
   ],
   "source": [
    "Q1: Probability Mass Function (PMF) and Probability Density Function (PDF):\n",
    "   - PMF: Used for discrete random variables. It gives the probability that a discrete random variable is exactly equal to some value. For example, in a fair six-sided die, the PMF for getting a 3 is 1/6.\n",
    "   - PDF: Used for continuous random variables. It gives the probability that a continuous random variable falls within a particular range. For example, in a normal distribution, the PDF gives the probability of a random variable falling within a specific interval.\n",
    "\n",
    "Q2: DF is used to calculate probabilities associated with ranges of values and is essential in statistical analysis and hypothesis testing.\n",
    "\n",
    "Q3: Examples of Normal Distribution:\n",
    "   - Heights of a population.\n",
    "   - IQ scores.\n",
    "   - Errors in measurements.\n",
    "   - The distribution of standardized test scores.\n",
    "   - The time taken to complete a task under certain conditions.\n",
    "   - Parameters: Mean (\\(\\mu\\)) represents the center, and standard deviation (\\(\\sigma\\)) controls the spread.\n",
    "\n",
    "Q4: Importance of Normal Distribution:\n",
    "   - Many statistical methods assume normal distribution.\n",
    "   - Simplifies analysis and interpretation.\n",
    "   - Common in nature due to the Central Limit Theorem.\n",
    "   - Real-life examples: Heights of individuals, IQ scores, errors in measurements.\n",
    "        \n",
    "Q5: Bernoulli Distribution:\n",
    "   - Describes a random experiment with two possible outcomes, usually labeled as success (1) and failure (0).\n",
    "   - Example: Flipping a coin (success = heads, failure = tails).\n",
    "   - Difference:*Bernoulli is a single trial, while Binomial is the sum of independent and identically distributed Bernoulli trials.\n",
    "\n",
    "Q6: Probability Calculation for a Normally Distributed Dataset:\n",
    "   - Using the z-score formula: \\(Z = \\frac{{X - \\mu}}{{\\sigma}}\\)\n",
    "   - For X = 60, \\(\\mu = 50\\), \\(\\sigma = 10\\): \\(Z = \\frac{{60 - 50}}{{10}} = 1\\)\n",
    "   - Look up the z-score in the standard normal distribution table to find the probability.\n",
    "\n",
    "Q7:Uniform Distribution:\n",
    "   - All values within a given range are equally likely.\n",
    "   - Example: Rolling a fair six-sided die, where each number has an equal chance of being rolled.\n",
    "\n",
    "Q8: Z Score:\n",
    "   - Z score measures how many standard deviations a data point is from the mean.\n",
    "   - Importance: Allows comparison of scores from different normal distributions and facilitates standardization.\n",
    "\n",
    "Q9: Central Limit Theorem (CLT):\n",
    "   - States that the distribution of the sum (or average) of a large number of independent, identically distributed random variables approaches a normal distribution, regardless of the original distribution.\n",
    "   - Significance: Enables the use of normal distribution in statistical inference even when the population distribution is not normal\n",
    "Q10: Assumptions of the Central Limit Theorem:\n",
    "   - Independence: Observations must be independent.\n",
    "   - Sample size: The larger the sample size, the better the approximation to a normal distribution.\n",
    "   - Identical distribution: The random variables should come from the same distribution (not necessarily normal)."
   ]
  },
  {
   "cell_type": "code",
   "execution_count": null,
   "id": "a9d18916",
   "metadata": {},
   "outputs": [],
   "source": []
  }
 ],
 "metadata": {
  "kernelspec": {
   "display_name": "Python 3 (ipykernel)",
   "language": "python",
   "name": "python3"
  },
  "language_info": {
   "codemirror_mode": {
    "name": "ipython",
    "version": 3
   },
   "file_extension": ".py",
   "mimetype": "text/x-python",
   "name": "python",
   "nbconvert_exporter": "python",
   "pygments_lexer": "ipython3",
   "version": "3.11.4"
  }
 },
 "nbformat": 4,
 "nbformat_minor": 5
}
